{
 "cells": [
  {
   "cell_type": "markdown",
   "metadata": {},
   "source": [
    "# Spatial Cluster Analysis with R and GeoDa\n",
    "By Lorenz Menendez & Isaac Kamber\n",
    "\n",
    "The goal of this Notebook is to show how we used [electoral and geographic data](https://github.com/isaacnk/GIS3/blob/master/Election%20Data%20Cleaning%20and%20Merging.ipynb) to compute cluster maps in GeoDa, which could then be reimported back into R for a later [Factor Analysis](https://github.com/isaacnk/2016Election/blob/master/Notebooks/Factor%20Analysis.ipynb).\n",
    "\n",
    "## Data Import & Quality Control\n",
    "The first step is to import the election data we previously wrangled."
   ]
  },
  {
   "cell_type": "code",
   "execution_count": null,
   "metadata": {},
   "outputs": [],
   "source": [
    "elctnVotes16 = st_read()"
   ]
  },
  {
   "cell_type": "markdown",
   "metadata": {},
   "source": [
    "After importing, it's best practice to view the geometric and attribute values for the data we are importing"
   ]
  }
 ],
 "metadata": {
  "kernelspec": {
   "display_name": "R",
   "language": "R",
   "name": "ir"
  },
  "language_info": {
   "codemirror_mode": "r",
   "file_extension": ".r",
   "mimetype": "text/x-r-source",
   "name": "R",
   "pygments_lexer": "r",
   "version": "3.4.3"
  }
 },
 "nbformat": 4,
 "nbformat_minor": 2
}
