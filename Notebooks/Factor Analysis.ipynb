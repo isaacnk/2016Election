{
 "cells": [
  {
   "cell_type": "markdown",
   "metadata": {},
   "source": [
    "# Factor Analysis\n",
    "By Lorenz Menendez & Isaac Kamber\n",
    "\n",
    "## Introduction\n",
    "This Notebook will show how we applied Principal Component Analysis (PCA) in R to better understand voting outcomes in the 2016 U.S. Presidential Election. This Notebook begins by importing election and demographic data for outlying counties (i.e. counties who voted significantly differently than their neighbording counties). Then, we show you how to construct a correlation matrix in R, validate the effectiveness of a PCA analysis, and finanlly complete the PCA analysis. Along the way, we touch on some of the statistical reasoning behind our choice of statistical methods as they relate to our interpretation of the election data. A more detailed account on implementing PCA can he found at the [UCLA Institute for Digital Reserach & Education](https://stats.idre.ucla.edu/spss/seminars/introduction-to-factor-analysis/a-practical-introduction-to-factor-analysis/).\n",
    "\n",
    "## Specific Goals\n",
    "Running a PCA will help better understand which characteristics define outlying counties by reducing the number of variables (or \"dimensions\") so we can interpret overall trends. At the end of the analysis, we will have a breakdown of how each demographic variable contributed to more general components which are themselves uncorrelated."
   ]
  },
  {
   "cell_type": "markdown",
   "metadata": {},
   "source": [
    "## Libraries\n",
    "To begin, you're going to need to library the following packages. We will library additional packages as we go along through the tutorial so you can see when each packages' functions are used. "
   ]
  },
  {
   "cell_type": "code",
   "execution_count": 2,
   "metadata": {},
   "outputs": [
    {
     "name": "stderr",
     "output_type": "stream",
     "text": [
      "Warning message:\n",
      "“package ‘sf’ was built under R version 3.4.4”Linking to GEOS 3.6.1, GDAL 2.1.3, PROJ 4.9.3\n",
      "Warning message:\n",
      "“package ‘dplyr’ was built under R version 3.4.4”\n",
      "Attaching package: ‘dplyr’\n",
      "\n",
      "The following objects are masked from ‘package:stats’:\n",
      "\n",
      "    filter, lag\n",
      "\n",
      "The following objects are masked from ‘package:base’:\n",
      "\n",
      "    intersect, setdiff, setequal, union\n",
      "\n"
     ]
    }
   ],
   "source": [
    "library(sf)\n",
    "library(dplyr)"
   ]
  },
  {
   "cell_type": "markdown",
   "metadata": {},
   "source": [
    "## Importing County-Level Election Data\n",
    "In a previous notebook, we learned how to identify outlying counties using LISA Maps. Now, we are going to import demogaphic, electoral, and geographic data. We've simplified the data wrangling task for you by compiling the necessary data for you. To load it simply run the following code."
   ]
  },
  {
   "cell_type": "code",
   "execution_count": 3,
   "metadata": {},
   "outputs": [
    {
     "name": "stdout",
     "output_type": "stream",
     "text": [
      "Reading layer `OGRGeoJSON' from data source `/Users/LorenzMenendez/Google Drive/2018-2019 Homework/Spring Quarter/2016Election/Notebooks/DATA/studyData.geojson' using driver `GeoJSON'\n",
      "Simple feature collection with 3142 features and 59 fields\n",
      "geometry type:  MULTIPOLYGON\n",
      "dimension:      XY\n",
      "bbox:           xmin: -179.1473 ymin: 18.91747 xmax: 179.7785 ymax: 71.35256\n",
      "epsg (SRID):    4269\n",
      "proj4string:    +proj=longlat +ellps=GRS80 +towgs84=0,0,0,0,0,0,0 +no_defs\n"
     ]
    }
   ],
   "source": [
    "outlierData = st_read(\"DATA/studyData.geojson\") %>% # Importing data from GeoJSON\n",
    "        filter(LowHigh == 1 | HighLow == 1) %>% # Filter for Outlying Counties\n",
    "        select(-POLY_ID) # Remove GeoDa's Primary Key"
   ]
  },
  {
   "cell_type": "markdown",
   "metadata": {},
   "source": [
    "To verify that the data downloaded successfully, run the following code and make sure that R returns 'sf' and 'data.frame'"
   ]
  },
  {
   "cell_type": "code",
   "execution_count": 4,
   "metadata": {},
   "outputs": [
    {
     "data": {
      "text/html": [
       "<ol class=list-inline>\n",
       "\t<li>'sf'</li>\n",
       "\t<li>'data.frame'</li>\n",
       "</ol>\n"
      ],
      "text/latex": [
       "\\begin{enumerate*}\n",
       "\\item 'sf'\n",
       "\\item 'data.frame'\n",
       "\\end{enumerate*}\n"
      ],
      "text/markdown": [
       "1. 'sf'\n",
       "2. 'data.frame'\n",
       "\n",
       "\n"
      ],
      "text/plain": [
       "[1] \"sf\"         \"data.frame\""
      ]
     },
     "metadata": {},
     "output_type": "display_data"
    }
   ],
   "source": [
    "class(outlierData)"
   ]
  },
  {
   "cell_type": "markdown",
   "metadata": {},
   "source": [
    "## Creating a Correlation Matrix\n",
    "Before attempting a PCA, we have to make sure that the measured variables (or \"Factors\") we chose are actually correlated with the dependent variable we are trying to explain. In this case, we want to make sure that our socioeconomic and demographic factors are actually correlated with the voting outcome. \n",
    "\n",
    "For a PCA to be meaningful, we would like to see that many factors are highly correlated or anticorrelated with the dependent variable. Here, we want to see that our county-level variables are correlated with the percent of the vote that went to Hillary Clinton in that county. "
   ]
  },
  {
   "cell_type": "code",
   "execution_count": null,
   "metadata": {},
   "outputs": [],
   "source": []
  }
 ],
 "metadata": {
  "kernelspec": {
   "display_name": "R",
   "language": "R",
   "name": "ir"
  },
  "language_info": {
   "codemirror_mode": "r",
   "file_extension": ".r",
   "mimetype": "text/x-r-source",
   "name": "R",
   "pygments_lexer": "r",
   "version": "3.4.3"
  }
 },
 "nbformat": 4,
 "nbformat_minor": 2
}
